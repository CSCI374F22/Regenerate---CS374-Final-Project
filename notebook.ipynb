{
 "cells": [
  {
   "cell_type": "markdown",
   "id": "f5c3ca2d",
   "metadata": {},
   "source": [
    "# Generate; working document"
   ]
  },
  {
   "cell_type": "markdown",
   "id": "37cdfac9",
   "metadata": {},
   "source": [
    "## Working with Magenta"
   ]
  },
  {
   "cell_type": "code",
   "execution_count": null,
   "id": "8087dc3b",
   "metadata": {},
   "outputs": [],
   "source": [
    "# Code with Magenta Here"
   ]
  },
  {
   "cell_type": "markdown",
   "id": "a0f4493b",
   "metadata": {},
   "source": [
    "## Other"
   ]
  },
  {
   "cell_type": "code",
   "execution_count": null,
   "id": "6d6f77c3",
   "metadata": {},
   "outputs": [],
   "source": [
    "# Test Specific Things down here labeling and commenting on what you are doing."
   ]
  }
 ],
 "metadata": {
  "kernelspec": {
   "display_name": "Python 3 (ipykernel)",
   "language": "python",
   "name": "python3"
  },
  "language_info": {
   "codemirror_mode": {
    "name": "ipython",
    "version": 3
   },
   "file_extension": ".py",
   "mimetype": "text/x-python",
   "name": "python",
   "nbconvert_exporter": "python",
   "pygments_lexer": "ipython3",
   "version": "3.9.7"
  }
 },
 "nbformat": 4,
 "nbformat_minor": 5
}
